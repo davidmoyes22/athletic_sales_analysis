# Import Libraries and Dependencies
import pandas as pd





# Read the CSV files into DataFrames.
sales_data_2020_df = pd.read_csv("Resources/athletic_sales_2020.csv")
sales_data_2021_df = pd.read_csv("Resources/athletic_sales_2021.csv")


# Display the 2020 sales DataFrame
sales_data_2020_df


# Display the 2021 sales DataFrame
sales_data_2021_df





# Check the 2020 sales data types.
sales_data_2020_df.dtypes


# Check the 2021 sales data types.
sales_data_2021_df.dtypes





# Combine the 2020 and 2021 sales DataFrames on the rows and reset the index.
sales_data_2020_2021_df = pd.concat([sales_data_2020_df, sales_data_2021_df],
                                    axis="rows", 
                                    join="inner")

sales_data_2020_2021_df = sales_data_2020_2021_df.reset_index(drop=True)
sales_data_2020_2021_df.head()
#sales_data_2020_2021_df.tail()


# Check if any values are null.
sales_data_2020_2021_df.isnull()


# Check the data type of each column
column_dtype = sales_data_2020_2021_df.dtypes
column_dtype


# Convert the "invoice_date" to a datetime datatype



# Confirm that the "invoice_date" data type has been changed.









# Show the number products sold for region, state, and city.
# Rename the sum to "Total_Products_Sold".




# Show the top 5 results.
                            





# Show the number products sold for region, state, and city.


# Rename the "units_sold" column to "Total_Products_Sold"


# Show the top 5 results.









# Show the total sales for the products sold for each region, state, and city.
# Rename the "total_sales" column to "Total Sales"


# Show the top 5 results.






# Show the total sales for the products sold for each region, state, and city.


# Optional: Rename the "total_sales" column to "Total Sales"


# Show the top 5 results.









# Show the total sales for the products sold for each retailer, region, state, and city.
# Rename the "total_sales" column to "Total Sales"

# Show the top 5 results.






# Show the total sales for the products sold for each retailer, region, state, and city.


# Optional: Rename the "total_sales" column to "Total Sales"


# Show the top 5 results.






# Filter the sales data to get the women's athletic footwear sales data.






# Show the total number of women's athletic footwear sold for each retailer, region, state, and city.
# Rename the "units_sold" column to "Womens_Footwear_Units_Sold"

# Show the top 5 results.






# Show the total number of women's athletic footwear sold for each retailer, region, state, and city.


# Rename the "units_sold" column to "Womens_Footwear_Units_Sold"

# Show the top 5 results.






# Create a pivot table with the 'invoice_date' column is the index, and the "total_sales" as the values.


# Optional: Rename the "total_sales" column to "Total Sales"


# Show the table.



# Resample the pivot table into daily bins, and get the total sales for each day.


# Sort the resampled pivot table in ascending order on "Total Sales".






# Resample the pivot table into weekly bins, and get the total sales for each week.


# Sort the resampled pivot table in ascending order on "Total Sales".




