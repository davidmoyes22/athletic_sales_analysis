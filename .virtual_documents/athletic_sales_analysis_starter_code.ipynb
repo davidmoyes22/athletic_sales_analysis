# Import Libraries and Dependencies
import pandas as pd





# Read the CSV files into DataFrames.
sales_data_2020_df = pd.read_csv("Resources/athletic_sales_2020.csv")
sales_data_2021_df = pd.read_csv("Resources/athletic_sales_2021.csv")


# Display the 2020 sales DataFrame
sales_data_2020_df


# Display the 2021 sales DataFrame
sales_data_2021_df





# Check the 2020 sales data types.
sales_data_2020_df.dtypes


# Check the 2021 sales data types.
sales_data_2021_df.dtypes





# Combine the 2020 and 2021 sales DataFrames on the rows and reset the index.
sales_data_2020_2021_df = pd.concat([sales_data_2020_df, sales_data_2021_df],
                                    axis="rows", 
                                    join="inner")

sales_data_2020_2021_df = sales_data_2020_2021_df.reset_index(drop=True)
sales_data_2020_2021_df.head()
#sales_data_2020_2021_df.tail()


# Check if any values are null.
sales_data_2020_2021_df.isnull()


# Check the data type of each column
column_dtype = sales_data_2020_2021_df.dtypes
column_dtype


# Convert the "invoice_date" to a datetime datatype
sales_data_2020_2021_df["invoice_date"] = pd.to_datetime(sales_data_2020_2021_df["invoice_date"])


# Confirm that the "invoice_date" data type has been changed.
sales_data_2020_2021_df["invoice_date"].dtype








# Show the number products sold for region, state, and city.
grouped_sales_data = sales_data_2020_2021_df.groupby(["region", "state", "city"])[["units_sold"]].agg("sum")

# Rename the sum to "Total_Products_Sold".

grouped_sales_data = grouped_sales_data.rename(columns={"units_sold": "Total_Products_Sold"})


# Show the top 5 results.
grouped_sales_data.sort_values(by="Total_Products_Sold", ascending = False)
grouped_sales_data.head(5)





# Show the number products sold for region, state, and city.
product_sold_2020_2021_pt = pd.pivot_table(sales_data_2020_2021_df,
                                         index=["region", "state", "city"],
                                         values="units_sold",
                                         aggfunc="sum")

# Rename the "units_sold" column to "Total_Products_Sold"
product_sold_2020_2021_pt = product_sold_2020_2021_pt.rename(columns={"units_sold":"Total_Products_Sold"})

# Show the top 5 results.
product_sold_2020_2021_pt.head()









# Show the total sales for the products sold for each region, state, and city.
sales_data_2020_2021_gb = sales_data_2020_2021_df.groupby(["region", "state", "city"])[["total_sales"]].agg("sum")

# Rename the "total_sales" column to "Total Sales"
sales_data_2020_2021_gb = sales_data_2020_2021_gb.rename(columns={"total_sales":"Total Sales"})

# Show the top 5 results.
sales_data_2020_2021_gb.head()





# Show the total sales for the products sold for each region, state, and city.
sales_data_2020_2021_pt = pd.pivot_table(sales_data_2020_2021_df,
                                         index=["region", "state", "city"],
                                         values="total_sales",
                                         aggfunc="sum")

# Optional: Rename the "total_sales" column to "Total Sales"
sales_data_2020_2021_pt = sales_data_2020_2021_pt.rename(columns={"total_sales":"Total Sales"})

# Show the top 5 results.
sales_data_2020_2021_pt.head()








# Show the total sales for the products sold for each retailer, region, state, and city.
retailer_data_2020_2021_gb = sales_data_2020_2021_df.groupby(["retailer","region", "state", "city"])[["total_sales"]].agg("sum")

# Rename the "total_sales" column to "Total Sales"
retailer_data_2020_2021_gb = retailer_data_2020_2021_gb.rename(columns={"total_sales":"Total Sales"})

# Show the top 5 results.
retailer_data_2020_2021_gb.head()





# Show the total sales for the products sold for each retailer, region, state, and city.
retailer_data_2020_2021_pt = pd.pivot_table(sales_data_2020_2021_df,
                                         index=["retailer","region", "state", "city"],
                                         values="total_sales",
                                         aggfunc="sum")

# Optional: Rename the "total_sales" column to "Total Sales"
retailer_data_2020_2021_pt = retailer_data_2020_2021_pt.rename(columns={"total_sales":"Total Sales"})


# Show the top 5 results.
retailer_data_2020_2021_pt.head()





# Filter the sales data to get the women's athletic footwear sales data.
women_footwear_data = sales_data_2020_2021_df.loc[(sales_data_2020_2021_df["product"]== "Women's Athletic Footwear")]
women_footwear_data.head()





# Show the total number of women's athletic footwear sold for each retailer, region, state, and city.
women_footwear_data_gb = women_footwear_data.groupby(["retailer","region", "state", "city"])[["units_sold"]].agg("sum")

# Rename the "units_sold" column to "Womens_Footwear_Units_Sold"
women_footwear_data_gb = women_footwear_data_gb.rename(columns={"units_sold":"Womens_Footwear_Units_Sold"})

# Show the top 5 results.
women_footwear_data_gb.head()





# Show the total number of women's athletic footwear sold for each retailer, region, state, and city.
women_footwear_data_pt = pd.pivot_table(women_footwear_data,
                                         index=["retailer","region", "state", "city"],
                                         values="units_sold",
                                         aggfunc="sum")

# Rename the "units_sold" column to "Womens_Footwear_Units_Sold"
women_footwear_data_pt = women_footwear_data_pt.rename(columns={"units_sold":"Womens_Footwear_Units_Sold"})

# Show the top 5 results.
women_footwear_data_pt.head()





# Create a pivot table with the 'invoice_date' column is the index, and the "total_sales" as the values.
women_footwear_dates_pt = pd.pivot_table(women_footwear_data,
                                         index="invoice_date",
                                         values="total_sales",
                                         aggfunc="sum")

# Optional: Rename the "total_sales" column to "Total Sales"
women_footwear_dates_pt = women_footwear_dates_pt.rename(columns={"total_sales":"Total Sales"})


# Show the table.
women_footwear_dates_pt


# Resample the pivot table into daily bins, and get the total sales for each day.
women_footwear_dates_pt.resample("D").sum()

# Sort the resampled pivot table in ascending order on "Total Sales".
women_footwear_dates_pt_daily = women_footwear_dates_pt.sort_values(by="Total Sales")
women_footwear_dates_pt_daily





# Resample the pivot table into weekly bins, and get the total sales for each week.
women_footwear_dates_pt.resample("W").sum()


# Sort the resampled pivot table in ascending order on "Total Sales".
women_footwear_dates_pt_weekly = women_footwear_dates_pt.sort_values(by="Total Sales")
women_footwear_dates_pt_weekly



